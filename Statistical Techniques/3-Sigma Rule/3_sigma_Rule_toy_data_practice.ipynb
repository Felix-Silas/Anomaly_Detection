{
  "nbformat": 4,
  "nbformat_minor": 0,
  "metadata": {
    "colab": {
      "provenance": []
    },
    "kernelspec": {
      "name": "python3",
      "display_name": "Python 3"
    },
    "language_info": {
      "name": "python"
    }
  },
  "cells": [
    {
      "cell_type": "markdown",
      "source": [
        "## 3-sigma Rule 이상탐지\n",
        "___\n",
        "\n",
        "* 정의\n",
        "```\n",
        "# SPC(Statistical Process Control, 통계적 공정관리), 경험적 규칙(empirical rule)\n",
        "# 표준편차의 3배인 3*Sigma(σ)의 범위가 전체 Data의 99.7%를 포함\n",
        "# 나머지 불량률을 0.3퍼까지만 관리하겠다는 공정관리에서 주로 쓰이는 룰\n",
        "# Data 전체의 산포를 파악하는 개념으로 많이 활용됨\n",
        "# 상한선 UCL(Upper Control Limit) / 하한선 LCL(Lower Control Limit)\n",
        "# Unsupervised\n",
        "```\n",
        "<img src = \"https://drive.google.com/uc?id=1iX8VeZrJADyEf1hwYiNb4JX2HhpBTra2\">\n",
        "\n",
        "* 장단점\n",
        "```\n",
        "  # [good] 매우 구현하기 쉬움\n",
        "  # [good] 명확한 기준을 설정할 수 있기 때문에, 방법론에 재학습이 필요없음\n",
        "  # [bad] 정규분포가 가정되어야 함. 즉, 정규분포임을 확인하고 쓰는 게 맞다.\n",
        "  # [bad] 다차원 데이터에 적용하기 어려움\n",
        "  # [bad] 단변량 데이터에 적용할 수 있으며, Feature간 상호관계를 파악하기 어려움\n",
        "  # [bad] 평균과 표준편차를 이용해 계산하기 때문에 outlier에 민감하다.\n",
        "```\n",
        "  \n",
        "* 사용방법\n",
        "```\n",
        "# 데이터의 분포를 정규분포로 가정하고, 평균으로부터 (표준편차 x 시그마 계수σ)를 벗어나면 아웃라이어라고 판단함\n",
        "# 시그마 계수(σ)\n",
        "```\n",
        "\n",
        "* 현업사례\n",
        "```\n",
        "# 공정 센서 데이터 이상탐지\n",
        "# 검사 및 측정 데이터 이상탐지 \n",
        "```\n",
        "   \n"
      ],
      "metadata": {
        "id": "HN-VcIU9-KKP"
      }
    },
    {
      "cell_type": "code",
      "execution_count": 1,
      "metadata": {
        "id": "Gz2OX6KI9tA3"
      },
      "outputs": [],
      "source": [
        "# ▶ Warnings 제거\n",
        "import warnings\n",
        "warnings.filterwarnings('ignore')"
      ]
    },
    {
      "cell_type": "code",
      "source": [
        "# ▶ Toy data 생성\n",
        "import numpy as np\n",
        "import pandas as pd \n",
        "pd.set_option('display.max_columns',100)\n",
        "pd.set_option('display.max_rows',100)\n",
        "\n",
        "df = pd.DataFrame({\"name\": ['KATE', 'LOUISE', 'JANE', 'JASON', 'TOM', 'JACK'], \n",
        "                   \"weight\": ['59', '61', '55', '66', '52', '110'], \n",
        "                   \"height\": ['120', '123', '115', '145', '64', '20']})\n",
        "df"
      ],
      "metadata": {
        "colab": {
          "base_uri": "https://localhost:8080/",
          "height": 237
        },
        "id": "Wh3XutEz9wk-",
        "outputId": "2cf74b7d-c7e0-414d-a784-8c039b7f99f7"
      },
      "execution_count": 2,
      "outputs": [
        {
          "output_type": "execute_result",
          "data": {
            "text/plain": [
              "     name weight height\n",
              "0    KATE     59    120\n",
              "1  LOUISE     61    123\n",
              "2    JANE     55    115\n",
              "3   JASON     66    145\n",
              "4     TOM     52     64\n",
              "5    JACK    110     20"
            ],
            "text/html": [
              "\n",
              "  <div id=\"df-570c8db8-e346-463a-ae63-59ffd458bbb8\">\n",
              "    <div class=\"colab-df-container\">\n",
              "      <div>\n",
              "<style scoped>\n",
              "    .dataframe tbody tr th:only-of-type {\n",
              "        vertical-align: middle;\n",
              "    }\n",
              "\n",
              "    .dataframe tbody tr th {\n",
              "        vertical-align: top;\n",
              "    }\n",
              "\n",
              "    .dataframe thead th {\n",
              "        text-align: right;\n",
              "    }\n",
              "</style>\n",
              "<table border=\"1\" class=\"dataframe\">\n",
              "  <thead>\n",
              "    <tr style=\"text-align: right;\">\n",
              "      <th></th>\n",
              "      <th>name</th>\n",
              "      <th>weight</th>\n",
              "      <th>height</th>\n",
              "    </tr>\n",
              "  </thead>\n",
              "  <tbody>\n",
              "    <tr>\n",
              "      <th>0</th>\n",
              "      <td>KATE</td>\n",
              "      <td>59</td>\n",
              "      <td>120</td>\n",
              "    </tr>\n",
              "    <tr>\n",
              "      <th>1</th>\n",
              "      <td>LOUISE</td>\n",
              "      <td>61</td>\n",
              "      <td>123</td>\n",
              "    </tr>\n",
              "    <tr>\n",
              "      <th>2</th>\n",
              "      <td>JANE</td>\n",
              "      <td>55</td>\n",
              "      <td>115</td>\n",
              "    </tr>\n",
              "    <tr>\n",
              "      <th>3</th>\n",
              "      <td>JASON</td>\n",
              "      <td>66</td>\n",
              "      <td>145</td>\n",
              "    </tr>\n",
              "    <tr>\n",
              "      <th>4</th>\n",
              "      <td>TOM</td>\n",
              "      <td>52</td>\n",
              "      <td>64</td>\n",
              "    </tr>\n",
              "    <tr>\n",
              "      <th>5</th>\n",
              "      <td>JACK</td>\n",
              "      <td>110</td>\n",
              "      <td>20</td>\n",
              "    </tr>\n",
              "  </tbody>\n",
              "</table>\n",
              "</div>\n",
              "      <button class=\"colab-df-convert\" onclick=\"convertToInteractive('df-570c8db8-e346-463a-ae63-59ffd458bbb8')\"\n",
              "              title=\"Convert this dataframe to an interactive table.\"\n",
              "              style=\"display:none;\">\n",
              "        \n",
              "  <svg xmlns=\"http://www.w3.org/2000/svg\" height=\"24px\"viewBox=\"0 0 24 24\"\n",
              "       width=\"24px\">\n",
              "    <path d=\"M0 0h24v24H0V0z\" fill=\"none\"/>\n",
              "    <path d=\"M18.56 5.44l.94 2.06.94-2.06 2.06-.94-2.06-.94-.94-2.06-.94 2.06-2.06.94zm-11 1L8.5 8.5l.94-2.06 2.06-.94-2.06-.94L8.5 2.5l-.94 2.06-2.06.94zm10 10l.94 2.06.94-2.06 2.06-.94-2.06-.94-.94-2.06-.94 2.06-2.06.94z\"/><path d=\"M17.41 7.96l-1.37-1.37c-.4-.4-.92-.59-1.43-.59-.52 0-1.04.2-1.43.59L10.3 9.45l-7.72 7.72c-.78.78-.78 2.05 0 2.83L4 21.41c.39.39.9.59 1.41.59.51 0 1.02-.2 1.41-.59l7.78-7.78 2.81-2.81c.8-.78.8-2.07 0-2.86zM5.41 20L4 18.59l7.72-7.72 1.47 1.35L5.41 20z\"/>\n",
              "  </svg>\n",
              "      </button>\n",
              "      \n",
              "  <style>\n",
              "    .colab-df-container {\n",
              "      display:flex;\n",
              "      flex-wrap:wrap;\n",
              "      gap: 12px;\n",
              "    }\n",
              "\n",
              "    .colab-df-convert {\n",
              "      background-color: #E8F0FE;\n",
              "      border: none;\n",
              "      border-radius: 50%;\n",
              "      cursor: pointer;\n",
              "      display: none;\n",
              "      fill: #1967D2;\n",
              "      height: 32px;\n",
              "      padding: 0 0 0 0;\n",
              "      width: 32px;\n",
              "    }\n",
              "\n",
              "    .colab-df-convert:hover {\n",
              "      background-color: #E2EBFA;\n",
              "      box-shadow: 0px 1px 2px rgba(60, 64, 67, 0.3), 0px 1px 3px 1px rgba(60, 64, 67, 0.15);\n",
              "      fill: #174EA6;\n",
              "    }\n",
              "\n",
              "    [theme=dark] .colab-df-convert {\n",
              "      background-color: #3B4455;\n",
              "      fill: #D2E3FC;\n",
              "    }\n",
              "\n",
              "    [theme=dark] .colab-df-convert:hover {\n",
              "      background-color: #434B5C;\n",
              "      box-shadow: 0px 1px 3px 1px rgba(0, 0, 0, 0.15);\n",
              "      filter: drop-shadow(0px 1px 2px rgba(0, 0, 0, 0.3));\n",
              "      fill: #FFFFFF;\n",
              "    }\n",
              "  </style>\n",
              "\n",
              "      <script>\n",
              "        const buttonEl =\n",
              "          document.querySelector('#df-570c8db8-e346-463a-ae63-59ffd458bbb8 button.colab-df-convert');\n",
              "        buttonEl.style.display =\n",
              "          google.colab.kernel.accessAllowed ? 'block' : 'none';\n",
              "\n",
              "        async function convertToInteractive(key) {\n",
              "          const element = document.querySelector('#df-570c8db8-e346-463a-ae63-59ffd458bbb8');\n",
              "          const dataTable =\n",
              "            await google.colab.kernel.invokeFunction('convertToInteractive',\n",
              "                                                     [key], {});\n",
              "          if (!dataTable) return;\n",
              "\n",
              "          const docLinkHtml = 'Like what you see? Visit the ' +\n",
              "            '<a target=\"_blank\" href=https://colab.research.google.com/notebooks/data_table.ipynb>data table notebook</a>'\n",
              "            + ' to learn more about interactive tables.';\n",
              "          element.innerHTML = '';\n",
              "          dataTable['output_type'] = 'display_data';\n",
              "          await google.colab.output.renderOutput(dataTable, element);\n",
              "          const docLink = document.createElement('div');\n",
              "          docLink.innerHTML = docLinkHtml;\n",
              "          element.appendChild(docLink);\n",
              "        }\n",
              "      </script>\n",
              "    </div>\n",
              "  </div>\n",
              "  "
            ]
          },
          "metadata": {},
          "execution_count": 2
        }
      ]
    },
    {
      "cell_type": "code",
      "source": [
        "# ▶ data type 확인\n",
        "df.info()"
      ],
      "metadata": {
        "colab": {
          "base_uri": "https://localhost:8080/"
        },
        "id": "Ojis6hgE9wnR",
        "outputId": "e11a0190-6aac-4afa-f4ff-ef1da9605386"
      },
      "execution_count": 3,
      "outputs": [
        {
          "output_type": "stream",
          "name": "stdout",
          "text": [
            "<class 'pandas.core.frame.DataFrame'>\n",
            "RangeIndex: 6 entries, 0 to 5\n",
            "Data columns (total 3 columns):\n",
            " #   Column  Non-Null Count  Dtype \n",
            "---  ------  --------------  ----- \n",
            " 0   name    6 non-null      object\n",
            " 1   weight  6 non-null      object\n",
            " 2   height  6 non-null      object\n",
            "dtypes: object(3)\n",
            "memory usage: 272.0+ bytes\n"
          ]
        }
      ]
    },
    {
      "cell_type": "code",
      "source": [
        "# ▶ 숫자형 데이터로 변경\n",
        "df['weight'] = df['weight'].astype(int)\n",
        "df['height'] = df['height'].astype(int)"
      ],
      "metadata": {
        "id": "CZYaUCVt9wpY"
      },
      "execution_count": 4,
      "outputs": []
    },
    {
      "cell_type": "code",
      "source": [
        "# ▶ UCL, LCL 생성\n",
        "df['UCL_W'] = df['weight'].mean() + 2*df['weight'].std()\n",
        "df['LCL_W'] = df['weight'].mean() - 2*df['weight'].std()\n",
        "\n",
        "df['UCL_H'] = df['height'].mean() + 2*df['height'].std()\n",
        "df['LCL_H'] = df['height'].mean() - 2*df['height'].std()"
      ],
      "metadata": {
        "id": "NKnPucq89wrd"
      },
      "execution_count": 5,
      "outputs": []
    },
    {
      "cell_type": "code",
      "source": [
        "# ▶ data 확인\n",
        "df"
      ],
      "metadata": {
        "colab": {
          "base_uri": "https://localhost:8080/",
          "height": 237
        },
        "id": "OVc7a5VP9wtc",
        "outputId": "a5b31c63-2b15-4990-d1e8-7154c210a398"
      },
      "execution_count": 6,
      "outputs": [
        {
          "output_type": "execute_result",
          "data": {
            "text/plain": [
              "     name  weight  height       UCL_W      LCL_W       UCL_H     LCL_H\n",
              "0    KATE      59     120  110.237152  24.096182  190.986254  4.680412\n",
              "1  LOUISE      61     123  110.237152  24.096182  190.986254  4.680412\n",
              "2    JANE      55     115  110.237152  24.096182  190.986254  4.680412\n",
              "3   JASON      66     145  110.237152  24.096182  190.986254  4.680412\n",
              "4     TOM      52      64  110.237152  24.096182  190.986254  4.680412\n",
              "5    JACK     110      20  110.237152  24.096182  190.986254  4.680412"
            ],
            "text/html": [
              "\n",
              "  <div id=\"df-b8c14879-21b1-4199-8e3a-ee4d94b9822c\">\n",
              "    <div class=\"colab-df-container\">\n",
              "      <div>\n",
              "<style scoped>\n",
              "    .dataframe tbody tr th:only-of-type {\n",
              "        vertical-align: middle;\n",
              "    }\n",
              "\n",
              "    .dataframe tbody tr th {\n",
              "        vertical-align: top;\n",
              "    }\n",
              "\n",
              "    .dataframe thead th {\n",
              "        text-align: right;\n",
              "    }\n",
              "</style>\n",
              "<table border=\"1\" class=\"dataframe\">\n",
              "  <thead>\n",
              "    <tr style=\"text-align: right;\">\n",
              "      <th></th>\n",
              "      <th>name</th>\n",
              "      <th>weight</th>\n",
              "      <th>height</th>\n",
              "      <th>UCL_W</th>\n",
              "      <th>LCL_W</th>\n",
              "      <th>UCL_H</th>\n",
              "      <th>LCL_H</th>\n",
              "    </tr>\n",
              "  </thead>\n",
              "  <tbody>\n",
              "    <tr>\n",
              "      <th>0</th>\n",
              "      <td>KATE</td>\n",
              "      <td>59</td>\n",
              "      <td>120</td>\n",
              "      <td>110.237152</td>\n",
              "      <td>24.096182</td>\n",
              "      <td>190.986254</td>\n",
              "      <td>4.680412</td>\n",
              "    </tr>\n",
              "    <tr>\n",
              "      <th>1</th>\n",
              "      <td>LOUISE</td>\n",
              "      <td>61</td>\n",
              "      <td>123</td>\n",
              "      <td>110.237152</td>\n",
              "      <td>24.096182</td>\n",
              "      <td>190.986254</td>\n",
              "      <td>4.680412</td>\n",
              "    </tr>\n",
              "    <tr>\n",
              "      <th>2</th>\n",
              "      <td>JANE</td>\n",
              "      <td>55</td>\n",
              "      <td>115</td>\n",
              "      <td>110.237152</td>\n",
              "      <td>24.096182</td>\n",
              "      <td>190.986254</td>\n",
              "      <td>4.680412</td>\n",
              "    </tr>\n",
              "    <tr>\n",
              "      <th>3</th>\n",
              "      <td>JASON</td>\n",
              "      <td>66</td>\n",
              "      <td>145</td>\n",
              "      <td>110.237152</td>\n",
              "      <td>24.096182</td>\n",
              "      <td>190.986254</td>\n",
              "      <td>4.680412</td>\n",
              "    </tr>\n",
              "    <tr>\n",
              "      <th>4</th>\n",
              "      <td>TOM</td>\n",
              "      <td>52</td>\n",
              "      <td>64</td>\n",
              "      <td>110.237152</td>\n",
              "      <td>24.096182</td>\n",
              "      <td>190.986254</td>\n",
              "      <td>4.680412</td>\n",
              "    </tr>\n",
              "    <tr>\n",
              "      <th>5</th>\n",
              "      <td>JACK</td>\n",
              "      <td>110</td>\n",
              "      <td>20</td>\n",
              "      <td>110.237152</td>\n",
              "      <td>24.096182</td>\n",
              "      <td>190.986254</td>\n",
              "      <td>4.680412</td>\n",
              "    </tr>\n",
              "  </tbody>\n",
              "</table>\n",
              "</div>\n",
              "      <button class=\"colab-df-convert\" onclick=\"convertToInteractive('df-b8c14879-21b1-4199-8e3a-ee4d94b9822c')\"\n",
              "              title=\"Convert this dataframe to an interactive table.\"\n",
              "              style=\"display:none;\">\n",
              "        \n",
              "  <svg xmlns=\"http://www.w3.org/2000/svg\" height=\"24px\"viewBox=\"0 0 24 24\"\n",
              "       width=\"24px\">\n",
              "    <path d=\"M0 0h24v24H0V0z\" fill=\"none\"/>\n",
              "    <path d=\"M18.56 5.44l.94 2.06.94-2.06 2.06-.94-2.06-.94-.94-2.06-.94 2.06-2.06.94zm-11 1L8.5 8.5l.94-2.06 2.06-.94-2.06-.94L8.5 2.5l-.94 2.06-2.06.94zm10 10l.94 2.06.94-2.06 2.06-.94-2.06-.94-.94-2.06-.94 2.06-2.06.94z\"/><path d=\"M17.41 7.96l-1.37-1.37c-.4-.4-.92-.59-1.43-.59-.52 0-1.04.2-1.43.59L10.3 9.45l-7.72 7.72c-.78.78-.78 2.05 0 2.83L4 21.41c.39.39.9.59 1.41.59.51 0 1.02-.2 1.41-.59l7.78-7.78 2.81-2.81c.8-.78.8-2.07 0-2.86zM5.41 20L4 18.59l7.72-7.72 1.47 1.35L5.41 20z\"/>\n",
              "  </svg>\n",
              "      </button>\n",
              "      \n",
              "  <style>\n",
              "    .colab-df-container {\n",
              "      display:flex;\n",
              "      flex-wrap:wrap;\n",
              "      gap: 12px;\n",
              "    }\n",
              "\n",
              "    .colab-df-convert {\n",
              "      background-color: #E8F0FE;\n",
              "      border: none;\n",
              "      border-radius: 50%;\n",
              "      cursor: pointer;\n",
              "      display: none;\n",
              "      fill: #1967D2;\n",
              "      height: 32px;\n",
              "      padding: 0 0 0 0;\n",
              "      width: 32px;\n",
              "    }\n",
              "\n",
              "    .colab-df-convert:hover {\n",
              "      background-color: #E2EBFA;\n",
              "      box-shadow: 0px 1px 2px rgba(60, 64, 67, 0.3), 0px 1px 3px 1px rgba(60, 64, 67, 0.15);\n",
              "      fill: #174EA6;\n",
              "    }\n",
              "\n",
              "    [theme=dark] .colab-df-convert {\n",
              "      background-color: #3B4455;\n",
              "      fill: #D2E3FC;\n",
              "    }\n",
              "\n",
              "    [theme=dark] .colab-df-convert:hover {\n",
              "      background-color: #434B5C;\n",
              "      box-shadow: 0px 1px 3px 1px rgba(0, 0, 0, 0.15);\n",
              "      filter: drop-shadow(0px 1px 2px rgba(0, 0, 0, 0.3));\n",
              "      fill: #FFFFFF;\n",
              "    }\n",
              "  </style>\n",
              "\n",
              "      <script>\n",
              "        const buttonEl =\n",
              "          document.querySelector('#df-b8c14879-21b1-4199-8e3a-ee4d94b9822c button.colab-df-convert');\n",
              "        buttonEl.style.display =\n",
              "          google.colab.kernel.accessAllowed ? 'block' : 'none';\n",
              "\n",
              "        async function convertToInteractive(key) {\n",
              "          const element = document.querySelector('#df-b8c14879-21b1-4199-8e3a-ee4d94b9822c');\n",
              "          const dataTable =\n",
              "            await google.colab.kernel.invokeFunction('convertToInteractive',\n",
              "                                                     [key], {});\n",
              "          if (!dataTable) return;\n",
              "\n",
              "          const docLinkHtml = 'Like what you see? Visit the ' +\n",
              "            '<a target=\"_blank\" href=https://colab.research.google.com/notebooks/data_table.ipynb>data table notebook</a>'\n",
              "            + ' to learn more about interactive tables.';\n",
              "          element.innerHTML = '';\n",
              "          dataTable['output_type'] = 'display_data';\n",
              "          await google.colab.output.renderOutput(dataTable, element);\n",
              "          const docLink = document.createElement('div');\n",
              "          docLink.innerHTML = docLinkHtml;\n",
              "          element.appendChild(docLink);\n",
              "        }\n",
              "      </script>\n",
              "    </div>\n",
              "  </div>\n",
              "  "
            ]
          },
          "metadata": {},
          "execution_count": 6
        }
      ]
    },
    {
      "cell_type": "code",
      "source": [
        "# ▶ weight plot \n",
        "import matplotlib.pyplot as plt\n",
        "import seaborn as sns\n",
        "%matplotlib inline\n",
        "plt.style.use(['dark_background'])\n",
        "\n",
        "sns.scatterplot(x=df['name'], y=df['weight']);\n",
        "plt.axhline(y=df['UCL_W'][0], color='r', linewidth=1)\n",
        "plt.axhline(y=df['LCL_W'][0], color='r', linewidth=1)\n",
        "plt.gcf().set_size_inches(15, 5)"
      ],
      "metadata": {
        "colab": {
          "base_uri": "https://localhost:8080/",
          "height": 465
        },
        "id": "S6FZeKkG9wvb",
        "outputId": "04c52315-381d-4236-c455-3ac96c8cdd4d"
      },
      "execution_count": 7,
      "outputs": [
        {
          "output_type": "display_data",
          "data": {
            "text/plain": [
              "<Figure size 1500x500 with 1 Axes>"
            ],
            "image/png": "[encoded data removed]"
          },
          "metadata": {}
        }
      ]
    },
    {
      "cell_type": "code",
      "source": [
        "# ▶ height plot \n",
        "sns.scatterplot(x=df['name'], y=df['height']);\n",
        "plt.axhline(y=df['UCL_H'][0], color='r', linewidth=1)\n",
        "plt.axhline(y=df['LCL_H'][0], color='r', linewidth=1)\n",
        "plt.gcf().set_size_inches(15, 5)"
      ],
      "metadata": {
        "colab": {
          "base_uri": "https://localhost:8080/",
          "height": 470
        },
        "id": "FI9-4ARF9wxm",
        "outputId": "63e8f3d2-3463-48db-fc2d-957eab1f79bb"
      },
      "execution_count": 8,
      "outputs": [
        {
          "output_type": "display_data",
          "data": {
            "text/plain": [
              "<Figure size 1500x500 with 1 Axes>"
            ],
            "image/png": "[encoded data removed]"
          },
          "metadata": {}
        }
      ]
    },
    {
      "cell_type": "markdown",
      "source": [
        "시각화한 것으로 보아 Jack의 weight이 상한선을 넘는 것으로 보여 3-Sigma Rule 알고리즘에 따라 Jack을 아웃라이어로 판단할 수 있습니다."
      ],
      "metadata": {
        "id": "wOcYrH8H94N-"
      }
    }
  ]
}