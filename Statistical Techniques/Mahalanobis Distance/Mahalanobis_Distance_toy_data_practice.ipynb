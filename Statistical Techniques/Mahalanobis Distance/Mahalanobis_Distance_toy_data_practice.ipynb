{
  "nbformat": 4,
  "nbformat_minor": 0,
  "metadata": {
    "colab": {
      "provenance": []
    },
    "kernelspec": {
      "name": "python3",
      "display_name": "Python 3"
    },
    "language_info": {
      "name": "python"
    }
  },
  "cells": [
    {
      "cell_type": "code",
      "execution_count": 1,
      "metadata": {
        "id": "UcfGdQ2RlX-i"
      },
      "outputs": [],
      "source": [
        "import pandas as pd\n",
        "import numpy as np\n",
        "\n",
        "# ▶ 정규 분포를 이용하여 데이터 분포에 타원을 그림, 타원에서 벗어날수록 outlier\n",
        "from sklearn.covariance import EllipticEnvelope\n",
        "# ▶ 랜덤 데이터를 생성하는데 사용됩니다. (※ 모든 방향으로 같은 성질을 가지는 정규분포를 이용해 가상 데이터 생성 클러스링 용 가상데이터를 생성하는데 사용)\n",
        "from sklearn.datasets import make_blobs\n",
        "\n",
        "# ▶ 랜덤 데이터 생성\n",
        "X, _ = make_blobs(n_samples = 100,\n",
        "                  n_features = 2,\n",
        "                  centers = 1,\n",
        "                  random_state = 1)\n",
        "\n",
        "# ▶ 이상치 Input\n",
        "X[0,0] = 10\n",
        "X[0,1] = -10"
      ]
    },
    {
      "cell_type": "code",
      "source": [
        "# ▶ EllipticEnvelope 을 이용하여 outlier를 검출하기 위한 객체를 생성합니다.\n",
        "# ▶ The amount of contamination of the data set, i.e. the proportion of outliers in the data set\n",
        "outlier_detector = EllipticEnvelope(contamination=.5)\n",
        "\n",
        "# ▶ EllipticEnvelope 객체를 생성한 데이터 학습\n",
        "outlier_detector.fit(X)\n",
        "\n",
        "# ▶ outlier를 검출\n",
        "# ▶ +1 이면 boundary 안에 들어온 값으로 정상 데이터\n",
        "# ▶ -1 이면 outlier로 간주.\n",
        "pred = outlier_detector.predict(X)\n",
        "pred"
      ],
      "metadata": {
        "colab": {
          "base_uri": "https://localhost:8080/"
        },
        "id": "oJah-LLJleaX",
        "outputId": "2f914bbe-c354-4fae-cb33-3183abf92e0c"
      },
      "execution_count": 2,
      "outputs": [
        {
          "output_type": "execute_result",
          "data": {
            "text/plain": [
              "array([-1, -1, -1,  1, -1,  1,  1,  1, -1,  1, -1,  1,  1, -1, -1,  1,  1,\n",
              "       -1,  1, -1,  1,  1,  1,  1,  1, -1,  1,  1, -1, -1,  1, -1, -1,  1,\n",
              "       -1,  1, -1, -1,  1,  1,  1, -1,  1, -1,  1,  1,  1, -1, -1,  1,  1,\n",
              "       -1,  1,  1,  1,  1, -1, -1,  1,  1,  1, -1, -1,  1, -1, -1, -1, -1,\n",
              "        1,  1,  1, -1,  1, -1, -1, -1, -1,  1, -1, -1, -1, -1,  1, -1,  1,\n",
              "       -1, -1, -1,  1,  1, -1,  1,  1,  1, -1, -1, -1,  1, -1, -1])"
            ]
          },
          "metadata": {},
          "execution_count": 2
        }
      ]
    },
    {
      "cell_type": "code",
      "source": [
        "outlier_detector.dist_"
      ],
      "metadata": {
        "colab": {
          "base_uri": "https://localhost:8080/"
        },
        "id": "ipnIbEkvleeS",
        "outputId": "885f1780-5608-4fdd-d0d6-718fd2962cbe"
      },
      "execution_count": 3,
      "outputs": [
        {
          "output_type": "execute_result",
          "data": {
            "text/plain": [
              "array([5.38914121e+02, 2.13180594e+00, 4.82227726e+00, 6.26872110e-01,\n",
              "       1.05241297e+01, 7.90313406e-01, 7.56905931e-01, 1.46798888e+00,\n",
              "       4.48906336e+00, 2.53938414e-01, 3.73447431e+00, 1.46511623e+00,\n",
              "       7.08428750e-01, 5.07648825e+00, 1.32598385e+01, 1.29520686e+00,\n",
              "       4.93475193e-01, 2.21859727e+00, 4.22855341e-01, 2.78465590e+00,\n",
              "       3.46581753e-01, 2.98618509e-01, 2.04717249e-01, 2.00941197e-01,\n",
              "       1.08414717e+00, 8.40533483e+00, 2.09239886e-01, 2.91348402e-01,\n",
              "       9.52284998e+00, 2.26476408e+00, 6.05028555e-01, 3.11821208e+00,\n",
              "       2.16572595e+00, 1.35406114e+00, 4.01400832e+00, 2.24219233e-01,\n",
              "       2.01489591e+00, 4.26694812e+00, 7.50452148e-01, 1.78396839e-01,\n",
              "       6.57776238e-02, 2.62856141e+00, 6.26460807e-01, 3.78949554e+00,\n",
              "       8.35441386e-03, 2.73489153e-01, 1.23376104e+00, 1.08169207e+01,\n",
              "       2.92043506e+00, 1.41194205e+00, 3.20027877e-01, 4.39456466e+00,\n",
              "       4.02627804e-01, 1.33151376e+00, 3.90932896e-01, 3.19087893e-01,\n",
              "       1.62998823e+00, 6.67317878e+00, 3.66373763e-01, 4.49536924e-01,\n",
              "       1.50630392e-01, 2.11955334e+00, 2.11670392e+00, 9.65891079e-01,\n",
              "       9.33436575e+00, 2.78876537e+00, 3.43135323e+00, 3.73112009e+00,\n",
              "       1.31041931e+00, 1.43508812e-01, 4.58319758e-01, 2.11796288e+00,\n",
              "       5.16957371e-01, 1.74935876e+00, 4.58603259e+00, 5.84358965e+00,\n",
              "       1.47952957e+00, 1.28980118e-01, 2.40228118e+00, 2.46437934e+00,\n",
              "       4.28552966e+00, 4.22073132e+00, 8.43301454e-01, 6.73257158e+00,\n",
              "       1.47683117e+00, 3.75109374e+00, 5.36486074e+00, 1.87575404e+00,\n",
              "       1.15976977e+00, 1.18821005e+00, 1.94095741e+00, 6.61880856e-01,\n",
              "       5.94723348e-01, 1.34813320e+00, 1.82916981e+00, 7.00414143e+00,\n",
              "       1.86819547e+00, 8.83402031e-01, 1.94351091e+00, 5.74968081e+00])"
            ]
          },
          "metadata": {},
          "execution_count": 3
        }
      ]
    },
    {
      "cell_type": "code",
      "source": [
        "# ▶ Raw data + Pred data\n",
        "df = pd.DataFrame(X, columns=['col1', 'col2'])\n",
        "df['outlier'] = pred\n",
        "df.head(5)"
      ],
      "metadata": {
        "colab": {
          "base_uri": "https://localhost:8080/",
          "height": 206
        },
        "id": "NWdaMm8WlegR",
        "outputId": "d7a95323-6e35-4a02-c15b-49128b1fd71a"
      },
      "execution_count": 4,
      "outputs": [
        {
          "output_type": "execute_result",
          "data": {
            "text/plain": [
              "        col1       col2  outlier\n",
              "0  10.000000 -10.000000       -1\n",
              "1  -0.813399   3.546974       -1\n",
              "2  -3.103674   3.902024       -1\n",
              "3  -1.429465   5.168501        1\n",
              "4   0.868766   4.157855       -1"
            ],
            "text/html": [
              "\n",
              "  <div id=\"df-e95ed9ed-f16b-4ac3-9905-2491f75b275a\">\n",
              "    <div class=\"colab-df-container\">\n",
              "      <div>\n",
              "<style scoped>\n",
              "    .dataframe tbody tr th:only-of-type {\n",
              "        vertical-align: middle;\n",
              "    }\n",
              "\n",
              "    .dataframe tbody tr th {\n",
              "        vertical-align: top;\n",
              "    }\n",
              "\n",
              "    .dataframe thead th {\n",
              "        text-align: right;\n",
              "    }\n",
              "</style>\n",
              "<table border=\"1\" class=\"dataframe\">\n",
              "  <thead>\n",
              "    <tr style=\"text-align: right;\">\n",
              "      <th></th>\n",
              "      <th>col1</th>\n",
              "      <th>col2</th>\n",
              "      <th>outlier</th>\n",
              "    </tr>\n",
              "  </thead>\n",
              "  <tbody>\n",
              "    <tr>\n",
              "      <th>0</th>\n",
              "      <td>10.000000</td>\n",
              "      <td>-10.000000</td>\n",
              "      <td>-1</td>\n",
              "    </tr>\n",
              "    <tr>\n",
              "      <th>1</th>\n",
              "      <td>-0.813399</td>\n",
              "      <td>3.546974</td>\n",
              "      <td>-1</td>\n",
              "    </tr>\n",
              "    <tr>\n",
              "      <th>2</th>\n",
              "      <td>-3.103674</td>\n",
              "      <td>3.902024</td>\n",
              "      <td>-1</td>\n",
              "    </tr>\n",
              "    <tr>\n",
              "      <th>3</th>\n",
              "      <td>-1.429465</td>\n",
              "      <td>5.168501</td>\n",
              "      <td>1</td>\n",
              "    </tr>\n",
              "    <tr>\n",
              "      <th>4</th>\n",
              "      <td>0.868766</td>\n",
              "      <td>4.157855</td>\n",
              "      <td>-1</td>\n",
              "    </tr>\n",
              "  </tbody>\n",
              "</table>\n",
              "</div>\n",
              "      <button class=\"colab-df-convert\" onclick=\"convertToInteractive('df-e95ed9ed-f16b-4ac3-9905-2491f75b275a')\"\n",
              "              title=\"Convert this dataframe to an interactive table.\"\n",
              "              style=\"display:none;\">\n",
              "        \n",
              "  <svg xmlns=\"http://www.w3.org/2000/svg\" height=\"24px\"viewBox=\"0 0 24 24\"\n",
              "       width=\"24px\">\n",
              "    <path d=\"M0 0h24v24H0V0z\" fill=\"none\"/>\n",
              "    <path d=\"M18.56 5.44l.94 2.06.94-2.06 2.06-.94-2.06-.94-.94-2.06-.94 2.06-2.06.94zm-11 1L8.5 8.5l.94-2.06 2.06-.94-2.06-.94L8.5 2.5l-.94 2.06-2.06.94zm10 10l.94 2.06.94-2.06 2.06-.94-2.06-.94-.94-2.06-.94 2.06-2.06.94z\"/><path d=\"M17.41 7.96l-1.37-1.37c-.4-.4-.92-.59-1.43-.59-.52 0-1.04.2-1.43.59L10.3 9.45l-7.72 7.72c-.78.78-.78 2.05 0 2.83L4 21.41c.39.39.9.59 1.41.59.51 0 1.02-.2 1.41-.59l7.78-7.78 2.81-2.81c.8-.78.8-2.07 0-2.86zM5.41 20L4 18.59l7.72-7.72 1.47 1.35L5.41 20z\"/>\n",
              "  </svg>\n",
              "      </button>\n",
              "      \n",
              "  <style>\n",
              "    .colab-df-container {\n",
              "      display:flex;\n",
              "      flex-wrap:wrap;\n",
              "      gap: 12px;\n",
              "    }\n",
              "\n",
              "    .colab-df-convert {\n",
              "      background-color: #E8F0FE;\n",
              "      border: none;\n",
              "      border-radius: 50%;\n",
              "      cursor: pointer;\n",
              "      display: none;\n",
              "      fill: #1967D2;\n",
              "      height: 32px;\n",
              "      padding: 0 0 0 0;\n",
              "      width: 32px;\n",
              "    }\n",
              "\n",
              "    .colab-df-convert:hover {\n",
              "      background-color: #E2EBFA;\n",
              "      box-shadow: 0px 1px 2px rgba(60, 64, 67, 0.3), 0px 1px 3px 1px rgba(60, 64, 67, 0.15);\n",
              "      fill: #174EA6;\n",
              "    }\n",
              "\n",
              "    [theme=dark] .colab-df-convert {\n",
              "      background-color: #3B4455;\n",
              "      fill: #D2E3FC;\n",
              "    }\n",
              "\n",
              "    [theme=dark] .colab-df-convert:hover {\n",
              "      background-color: #434B5C;\n",
              "      box-shadow: 0px 1px 3px 1px rgba(0, 0, 0, 0.15);\n",
              "      filter: drop-shadow(0px 1px 2px rgba(0, 0, 0, 0.3));\n",
              "      fill: #FFFFFF;\n",
              "    }\n",
              "  </style>\n",
              "\n",
              "      <script>\n",
              "        const buttonEl =\n",
              "          document.querySelector('#df-e95ed9ed-f16b-4ac3-9905-2491f75b275a button.colab-df-convert');\n",
              "        buttonEl.style.display =\n",
              "          google.colab.kernel.accessAllowed ? 'block' : 'none';\n",
              "\n",
              "        async function convertToInteractive(key) {\n",
              "          const element = document.querySelector('#df-e95ed9ed-f16b-4ac3-9905-2491f75b275a');\n",
              "          const dataTable =\n",
              "            await google.colab.kernel.invokeFunction('convertToInteractive',\n",
              "                                                     [key], {});\n",
              "          if (!dataTable) return;\n",
              "\n",
              "          const docLinkHtml = 'Like what you see? Visit the ' +\n",
              "            '<a target=\"_blank\" href=https://colab.research.google.com/notebooks/data_table.ipynb>data table notebook</a>'\n",
              "            + ' to learn more about interactive tables.';\n",
              "          element.innerHTML = '';\n",
              "          dataTable['output_type'] = 'display_data';\n",
              "          await google.colab.output.renderOutput(dataTable, element);\n",
              "          const docLink = document.createElement('div');\n",
              "          docLink.innerHTML = docLinkHtml;\n",
              "          element.appendChild(docLink);\n",
              "        }\n",
              "      </script>\n",
              "    </div>\n",
              "  </div>\n",
              "  "
            ]
          },
          "metadata": {},
          "execution_count": 4
        }
      ]
    },
    {
      "cell_type": "code",
      "source": [
        "# ▶ Plot\n",
        "import pandas as pd\n",
        "import matplotlib.pyplot as plt\n",
        "import seaborn as sns\n",
        "%matplotlib inline\n",
        "plt.style.use(['dark_background'])\n",
        "\n",
        "sns.scatterplot(x='col1', y='col2', hue='outlier', data=df);"
      ],
      "metadata": {
        "colab": {
          "base_uri": "https://localhost:8080/",
          "height": 449
        },
        "id": "CEcPF3Drleid",
        "outputId": "c2770d1d-4d75-4774-f5e9-63b9f1022d4d"
      },
      "execution_count": 5,
      "outputs": [
        {
          "output_type": "display_data",
          "data": {
            "text/plain": [
              "<Figure size 640x480 with 1 Axes>"
            ],
            "image/png": "[encoded data removed]"
          },
          "metadata": {}
        }
      ]
    }
  ]
}