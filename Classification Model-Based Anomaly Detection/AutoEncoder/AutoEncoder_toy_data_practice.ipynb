{
  "nbformat": 4,
  "nbformat_minor": 0,
  "metadata": {
    "colab": {
      "provenance": []
    },
    "kernelspec": {
      "name": "python3",
      "display_name": "Python 3"
    },
    "language_info": {
      "name": "python"
    }
  },
  "cells": [
    {
      "cell_type": "markdown",
      "source": [
        "## Ch03-(3). 🎯 Autoencoder\n",
        "___\n",
        "* 정의\n",
        "```\n",
        "# 비지도학습(Unsupervised Learning) 이상탐지 영역에서 활용됨\n",
        "# 오터인코더(Auto Encoder)란 입력을 출력으로 복사하는 신경망: 자기 자신을 다시 예측한다!\n",
        "# 데이터를 압축하는 부분을 인코더(Encoder)\n",
        "# 데이터를 복원하는 부분을 디코더(Decoder)\n",
        "# 고차원 데이터를 잘 표현해주는 잠재 벡터(latent vector)을 자동으로 추출해주는 모델\n",
        "# 고차원 데이터의 가장 중요한 특징을 학습하는 것\n",
        "# 정상 데이터의 특징을 학습하고, 비정상 데이터를 Input하면 Loss(MSE)가 커짐\n",
        "```\n",
        "<img src = \"https://drive.google.com/uc?id=1loR-rn4TixzAQQaepi23LDRPDS8S-0t3\">\n",
        "<img src = \"https://drive.google.com/uc?id=1NOu1PJd1meaqNDWAL19p2f-CAg6R9k4n\">\n",
        "* 장단점\n",
        "```\n",
        "  # [good] 데이터 Label이 존재하지 않아도 사용 가능: 하지만 정상적인 데이터로 만들어진 네트워크가 있으면 몹시 좋음.\n",
        "  # [good] 고차원에 데이터의 특징을 추출할 수 있음\n",
        "  # [good] Auto encoder를 기반으로 다양한 알고리즘 존재\n",
        "  # [bad] Hyper parameter (※ hidden layer) 설정이 어려움\n",
        "  # [bad] Loss(MSE)에 대한 threshold 설정이 어려움\n",
        "```\n",
        "  \n",
        "* 사용방법\n",
        "```\n",
        "# from pyod.models.auto_encoder import AutoEncoder\n",
        "# 정상 Data 확보\n",
        "# Hyper-paramter 결정 (※ hidden layer)\n",
        "# 학습 및 예측\n",
        "# threshold 및 scoring\n",
        "```\n",
        "\n",
        "* 현업사례\n",
        "```\n",
        "# 시계열 센서 데이터 이상 탐지\n",
        "```\n"
      ],
      "metadata": {
        "id": "jkO4v3XMPaay"
      }
    },
    {
      "cell_type": "code",
      "execution_count": null,
      "metadata": {
        "id": "inu5TgYtPXhg"
      },
      "outputs": [],
      "source": [
        "# ▶ pyod 패키지 설치\n",
        "!pip install pyod"
      ]
    },
    {
      "cell_type": "code",
      "source": [
        "# ▶ Toy data 생성\n",
        "from pyod.models.auto_encoder import AutoEncoder\n",
        "from pyod.utils.data import generate_data\n",
        "from pyod.utils.data import evaluate_print\n",
        "\n",
        "contamination = 0.1  # ▶ percentage of outliers\n",
        "n_train = 20000      # ▶ number of training points\n",
        "n_test = 2000        # ▶ number of testing points\n",
        "n_features = 300     # ▶ number of features\n",
        "\n",
        "X_train, X_test, y_train, y_test = \\\n",
        "    generate_data(n_train=n_train,\n",
        "                  n_test=n_test,\n",
        "                  n_features=n_features,\n",
        "                  contamination=contamination,\n",
        "                  random_state=42)"
      ],
      "metadata": {
        "id": "tLD08Z0JPZ8D"
      },
      "execution_count": null,
      "outputs": []
    },
    {
      "cell_type": "code",
      "source": [
        "# X_train[1]\n",
        "# y_train[1]\n",
        "# X_train[-1]\n",
        "# y_train[-1]"
      ],
      "metadata": {
        "id": "6KV_twPAPxKt"
      },
      "execution_count": null,
      "outputs": []
    },
    {
      "cell_type": "code",
      "source": [
        "# ▶ 모델 생성/학습 및 Hyper paramter 선정\n",
        "clf_name = 'AutoEncoder'\n",
        "clf = AutoEncoder(hidden_neurons =[300, 100, 100, 300], epochs=10, contamination=contamination)\n",
        "clf.fit(X_train)"
      ],
      "metadata": {
        "id": "Vkc-3BfIPxM3"
      },
      "execution_count": null,
      "outputs": []
    },
    {
      "cell_type": "code",
      "source": [
        "y_train_pred = clf.labels_             # ▶ binary labels (0: inliers, 1: outliers)\n",
        "y_train_scores = clf.decision_scores_  # ▶ raw outlier scores\n",
        "\n",
        "# ▶ get the prediction on the test data\n",
        "y_test_pred = clf.predict(X_test)              # ▶ outlier labels (0 or 1)\n",
        "y_test_scores = clf.decision_function(X_test)  # ▶ outlier scores"
      ],
      "metadata": {
        "id": "BRdsYh26PxPI"
      },
      "execution_count": null,
      "outputs": []
    },
    {
      "cell_type": "code",
      "source": [
        "# ▶ score가 높을 수록 Outlier에 가까움\n",
        "y_train_pred[0:5], y_train_scores[0:5]"
      ],
      "metadata": {
        "id": "zXflB_SLPxRX"
      },
      "execution_count": null,
      "outputs": []
    },
    {
      "cell_type": "code",
      "source": [
        "y_test_pred[1950:2000], y_test_scores[1950:2000]"
      ],
      "metadata": {
        "id": "xZ9dXDJNQMTk"
      },
      "execution_count": null,
      "outputs": []
    },
    {
      "cell_type": "code",
      "source": [
        "# ▶ Outlier 예측 데이터 수\n",
        "import pandas as pd\n",
        "pd.Series(y_train_pred).value_counts()"
      ],
      "metadata": {
        "id": "Y_tzvY1YQMV3"
      },
      "execution_count": null,
      "outputs": []
    },
    {
      "cell_type": "code",
      "source": [
        "# ▶ threshold 결정을 위한 modified Z점수 표준화 (※ 이상치에 Robust한 표준화 방법)\n",
        "import seaborn as sns\n",
        "import numpy as np\n",
        "\n",
        "def mod_z(col) :\n",
        "    med_col = col.median()\n",
        "    med_abs_dev = (np.abs(col - med_col)).median()\n",
        "    mod_z = 0.7413 * ((col - med_col) / med_abs_dev)\n",
        "    return np.abs(mod_z)\n",
        "\n",
        "pd_s = pd.Series(y_test_scores);\n",
        "mod_z = mod_z(pd_s);\n",
        "sns.distplot(mod_z);"
      ],
      "metadata": {
        "id": "Uam29jTXQMYJ"
      },
      "execution_count": null,
      "outputs": []
    },
    {
      "cell_type": "code",
      "source": [
        "# ▶ threshold 결정을 위한 modified Z점수 표준화 (※ 이상치에 Robust한 표준화 방법)\n",
        "import seaborn as sns\n",
        "import numpy as np\n",
        "\n",
        "def mod_z(col) :\n",
        "    med_col = col.median()\n",
        "    med_abs_dev = (np.abs(col - med_col)).median()\n",
        "    mod_z = 0.7413 * ((col - med_col) / med_abs_dev)\n",
        "    return np.abs(mod_z)\n",
        "\n",
        "pd_s = pd.Series(y_test_scores);\n",
        "mod_z = mod_z(pd_s);\n",
        "sns.distplot(mod_z);"
      ],
      "metadata": {
        "id": "HAWNd1epQMam"
      },
      "execution_count": null,
      "outputs": []
    },
    {
      "cell_type": "code",
      "source": [
        "# ▶ 성능평가\n",
        "print(\"\\nOn Training Data:\")\n",
        "evaluate_print(clf_name, y_train, y_train_scores)\n",
        "print(\"\\nOn Test Data:\")\n",
        "evaluate_print(clf_name, y_test, y_test_scores)"
      ],
      "metadata": {
        "id": "tAMegjgZQMcW"
      },
      "execution_count": null,
      "outputs": []
    }
  ]
}