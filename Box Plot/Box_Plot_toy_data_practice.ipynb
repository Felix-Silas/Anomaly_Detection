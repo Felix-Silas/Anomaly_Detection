{
  "nbformat": 4,
  "nbformat_minor": 0,
  "metadata": {
    "colab": {
      "provenance": []
    },
    "kernelspec": {
      "name": "python3",
      "display_name": "Python 3"
    },
    "language_info": {
      "name": "python"
    }
  },
  "cells": [
    {
      "cell_type": "code",
      "source": [
        "# ▶ Warnings 제거\n",
        "import warnings\n",
        "warnings.filterwarnings('ignore')"
      ],
      "metadata": {
        "id": "_NjdsASUGGgt"
      },
      "execution_count": null,
      "outputs": []
    },
    {
      "cell_type": "code",
      "source": [
        "# ▶ 데이터 생성\n",
        "import pandas as pd\n",
        "import numpy as np\n",
        "import matplotlib.pyplot as plt\n",
        "import seaborn as sns\n",
        "\n",
        "test = pd.DataFrame([1, 5, 9, 10, 15, 20, 34])\n",
        "test"
      ],
      "metadata": {
        "colab": {
          "base_uri": "https://localhost:8080/",
          "height": 269
        },
        "id": "D4FZy1aSGHM_",
        "outputId": "40586602-a725-4f31-f5bc-21f46f93dc52"
      },
      "execution_count": 25,
      "outputs": [
        {
          "output_type": "execute_result",
          "data": {
            "text/plain": [
              "    0\n",
              "0   1\n",
              "1   5\n",
              "2   9\n",
              "3  10\n",
              "4  15\n",
              "5  20\n",
              "6  34"
            ],
            "text/html": [
              "\n",
              "  <div id=\"df-692f0adf-17b7-491d-980a-f481623138be\">\n",
              "    <div class=\"colab-df-container\">\n",
              "      <div>\n",
              "<style scoped>\n",
              "    .dataframe tbody tr th:only-of-type {\n",
              "        vertical-align: middle;\n",
              "    }\n",
              "\n",
              "    .dataframe tbody tr th {\n",
              "        vertical-align: top;\n",
              "    }\n",
              "\n",
              "    .dataframe thead th {\n",
              "        text-align: right;\n",
              "    }\n",
              "</style>\n",
              "<table border=\"1\" class=\"dataframe\">\n",
              "  <thead>\n",
              "    <tr style=\"text-align: right;\">\n",
              "      <th></th>\n",
              "      <th>0</th>\n",
              "    </tr>\n",
              "  </thead>\n",
              "  <tbody>\n",
              "    <tr>\n",
              "      <th>0</th>\n",
              "      <td>1</td>\n",
              "    </tr>\n",
              "    <tr>\n",
              "      <th>1</th>\n",
              "      <td>5</td>\n",
              "    </tr>\n",
              "    <tr>\n",
              "      <th>2</th>\n",
              "      <td>9</td>\n",
              "    </tr>\n",
              "    <tr>\n",
              "      <th>3</th>\n",
              "      <td>10</td>\n",
              "    </tr>\n",
              "    <tr>\n",
              "      <th>4</th>\n",
              "      <td>15</td>\n",
              "    </tr>\n",
              "    <tr>\n",
              "      <th>5</th>\n",
              "      <td>20</td>\n",
              "    </tr>\n",
              "    <tr>\n",
              "      <th>6</th>\n",
              "      <td>34</td>\n",
              "    </tr>\n",
              "  </tbody>\n",
              "</table>\n",
              "</div>\n",
              "      <button class=\"colab-df-convert\" onclick=\"convertToInteractive('df-692f0adf-17b7-491d-980a-f481623138be')\"\n",
              "              title=\"Convert this dataframe to an interactive table.\"\n",
              "              style=\"display:none;\">\n",
              "        \n",
              "  <svg xmlns=\"http://www.w3.org/2000/svg\" height=\"24px\"viewBox=\"0 0 24 24\"\n",
              "       width=\"24px\">\n",
              "    <path d=\"M0 0h24v24H0V0z\" fill=\"none\"/>\n",
              "    <path d=\"M18.56 5.44l.94 2.06.94-2.06 2.06-.94-2.06-.94-.94-2.06-.94 2.06-2.06.94zm-11 1L8.5 8.5l.94-2.06 2.06-.94-2.06-.94L8.5 2.5l-.94 2.06-2.06.94zm10 10l.94 2.06.94-2.06 2.06-.94-2.06-.94-.94-2.06-.94 2.06-2.06.94z\"/><path d=\"M17.41 7.96l-1.37-1.37c-.4-.4-.92-.59-1.43-.59-.52 0-1.04.2-1.43.59L10.3 9.45l-7.72 7.72c-.78.78-.78 2.05 0 2.83L4 21.41c.39.39.9.59 1.41.59.51 0 1.02-.2 1.41-.59l7.78-7.78 2.81-2.81c.8-.78.8-2.07 0-2.86zM5.41 20L4 18.59l7.72-7.72 1.47 1.35L5.41 20z\"/>\n",
              "  </svg>\n",
              "      </button>\n",
              "      \n",
              "  <style>\n",
              "    .colab-df-container {\n",
              "      display:flex;\n",
              "      flex-wrap:wrap;\n",
              "      gap: 12px;\n",
              "    }\n",
              "\n",
              "    .colab-df-convert {\n",
              "      background-color: #E8F0FE;\n",
              "      border: none;\n",
              "      border-radius: 50%;\n",
              "      cursor: pointer;\n",
              "      display: none;\n",
              "      fill: #1967D2;\n",
              "      height: 32px;\n",
              "      padding: 0 0 0 0;\n",
              "      width: 32px;\n",
              "    }\n",
              "\n",
              "    .colab-df-convert:hover {\n",
              "      background-color: #E2EBFA;\n",
              "      box-shadow: 0px 1px 2px rgba(60, 64, 67, 0.3), 0px 1px 3px 1px rgba(60, 64, 67, 0.15);\n",
              "      fill: #174EA6;\n",
              "    }\n",
              "\n",
              "    [theme=dark] .colab-df-convert {\n",
              "      background-color: #3B4455;\n",
              "      fill: #D2E3FC;\n",
              "    }\n",
              "\n",
              "    [theme=dark] .colab-df-convert:hover {\n",
              "      background-color: #434B5C;\n",
              "      box-shadow: 0px 1px 3px 1px rgba(0, 0, 0, 0.15);\n",
              "      filter: drop-shadow(0px 1px 2px rgba(0, 0, 0, 0.3));\n",
              "      fill: #FFFFFF;\n",
              "    }\n",
              "  </style>\n",
              "\n",
              "      <script>\n",
              "        const buttonEl =\n",
              "          document.querySelector('#df-692f0adf-17b7-491d-980a-f481623138be button.colab-df-convert');\n",
              "        buttonEl.style.display =\n",
              "          google.colab.kernel.accessAllowed ? 'block' : 'none';\n",
              "\n",
              "        async function convertToInteractive(key) {\n",
              "          const element = document.querySelector('#df-692f0adf-17b7-491d-980a-f481623138be');\n",
              "          const dataTable =\n",
              "            await google.colab.kernel.invokeFunction('convertToInteractive',\n",
              "                                                     [key], {});\n",
              "          if (!dataTable) return;\n",
              "\n",
              "          const docLinkHtml = 'Like what you see? Visit the ' +\n",
              "            '<a target=\"_blank\" href=https://colab.research.google.com/notebooks/data_table.ipynb>data table notebook</a>'\n",
              "            + ' to learn more about interactive tables.';\n",
              "          element.innerHTML = '';\n",
              "          dataTable['output_type'] = 'display_data';\n",
              "          await google.colab.output.renderOutput(dataTable, element);\n",
              "          const docLink = document.createElement('div');\n",
              "          docLink.innerHTML = docLinkHtml;\n",
              "          element.appendChild(docLink);\n",
              "        }\n",
              "      </script>\n",
              "    </div>\n",
              "  </div>\n",
              "  "
            ]
          },
          "metadata": {},
          "execution_count": 25
        }
      ]
    },
    {
      "cell_type": "code",
      "source": [
        "# ▶ Box plot 그려보기\n",
        "fig, ax = plt.subplots(1, 1, figsize = (4, 4))\n",
        "a = list(test[0])\n",
        "box = ax.boxplot(a)"
      ],
      "metadata": {
        "colab": {
          "base_uri": "https://localhost:8080/",
          "height": 368
        },
        "id": "C2S5DgTuKktC",
        "outputId": "e5a354c4-b6ba-43e5-f4d8-f1ff022ee116"
      },
      "execution_count": 26,
      "outputs": [
        {
          "output_type": "display_data",
          "data": {
            "text/plain": [
              "<Figure size 400x400 with 1 Axes>"
            ],
            "image/png": "[encoded data removed]"
          },
          "metadata": {}
        }
      ]
    },
    {
      "cell_type": "code",
      "source": [
        "# ▶ 데이터 생성\n",
        "data_a = np.random.normal(0, 2.0, 1000)\n",
        "data_b = np.random.normal(-3.0, 1.5, 500)\n",
        "data_c = np.random.normal(1.2, 1.5, 1500)"
      ],
      "metadata": {
        "id": "ZWT_FDEMKxEI"
      },
      "execution_count": 29,
      "outputs": []
    },
    {
      "cell_type": "code",
      "source": [
        "# ▶ Box plot 그려보기\n",
        "\n",
        "fig, ax = plt.subplots()\n",
        "\n",
        "labels = ['data_a', 'data_b', 'data_c']\n",
        "\n",
        "box = ax.boxplot([data_a, data_b, data_c], whis = 1.5)\n",
        "ax.set_ylim(-10.0, 10.0)\n",
        "ax.set_xlabel('Data Type')\n",
        "ax.set_ylabel('Value')"
      ],
      "metadata": {
        "colab": {
          "base_uri": "https://localhost:8080/",
          "height": 473
        },
        "id": "f4QUvEpTGHPG",
        "outputId": "cb1ff83d-af89-45b4-9bba-2707008a779d"
      },
      "execution_count": 36,
      "outputs": [
        {
          "output_type": "execute_result",
          "data": {
            "text/plain": [
              "Text(0, 0.5, 'Value')"
            ]
          },
          "metadata": {},
          "execution_count": 36
        },
        {
          "output_type": "display_data",
          "data": {
            "text/plain": [
              "<Figure size 640x480 with 3 Axes>"
            ],
            "image/png": "[encoded data removed]"
          },
          "metadata": {}
        }
      ]
    },
    {
      "cell_type": "code",
      "source": [
        "# ▶ Box plot, 분포를 확인하기 어려울 때 다음 Plot을 활용함 \n",
        "data_a_df = pd.DataFrame(data_a)\n",
        "data_a_df.boxplot()\n",
        " \n",
        "# ▶ matplotlib을 이용하여 그 위에 각 점들을 찍어줌\n",
        "for i, d in enumerate(data_a_df):\n",
        "    y = data_a_df[d]\n",
        "    x = np.random.normal(i + 1, 0.04, len(y))\n",
        "    plt.scatter(x, y)\n",
        "plt.title(\"boxplot with scatter\", fontsize=20)    \n",
        "plt.show()"
      ],
      "metadata": {
        "colab": {
          "base_uri": "https://localhost:8080/",
          "height": 460
        },
        "id": "fYQCeRvjJeem",
        "outputId": "11dc31f1-05dc-4470-81d1-5a156a8ec3d9"
      },
      "execution_count": 24,
      "outputs": [
        {
          "output_type": "display_data",
          "data": {
            "text/plain": [
              "<Figure size 640x480 with 1 Axes>"
            ],
            "image/png": "[encoded data removed]"
          },
          "metadata": {}
        }
      ]
    },
    {
      "cell_type": "code",
      "source": [
        "for key, value in box.items():\n",
        "    print(key, value)"
      ],
      "metadata": {
        "colab": {
          "base_uri": "https://localhost:8080/"
        },
        "id": "9fRejqKNQiZN",
        "outputId": "28b3ca4b-8871-403c-b085-2fc25b96c4bd"
      },
      "execution_count": 40,
      "outputs": [
        {
          "output_type": "stream",
          "name": "stdout",
          "text": [
            "whiskers [<matplotlib.lines.Line2D object at 0x7f92fb496d70>, <matplotlib.lines.Line2D object at 0x7f92fb497010>]\n",
            "caps [<matplotlib.lines.Line2D object at 0x7f92fb4972b0>, <matplotlib.lines.Line2D object at 0x7f92fb497550>]\n",
            "boxes [<matplotlib.lines.Line2D object at 0x7f92fb496ad0>]\n",
            "medians [<matplotlib.lines.Line2D object at 0x7f92fb4977f0>]\n",
            "fliers [<matplotlib.lines.Line2D object at 0x7f92fb497a90>]\n",
            "means []\n"
          ]
        }
      ]
    },
    {
      "cell_type": "code",
      "source": [
        "# ▶ Outlier 검출하기\n",
        "def get_box_plot_data(labels, bp):\n",
        "    rows_list = []\n",
        "    for i in range(len(labels)):\n",
        "        dict1 = {}\n",
        "        dict1['label'] = labels[i]\n",
        "        dict1['lower_whisker'] = bp['whiskers'][i*2].get_ydata()[1]\n",
        "        dict1['lower_quartile'] = bp['boxes'][i].get_ydata()[1]\n",
        "        dict1['median'] = bp['medians'][i].get_ydata()[1]\n",
        "        dict1['upper_quartile'] = bp['boxes'][i].get_ydata()[2]\n",
        "        dict1['upper_whisker'] = bp['whiskers'][(i*2)+1].get_ydata()[1]\n",
        "        dict1['Outlier'] = bp['fliers'][i].get_ydata()\n",
        "        rows_list.append(dict1)\n",
        "\n",
        "    return pd.DataFrame(rows_list)"
      ],
      "metadata": {
        "id": "Vfcg_9ZyGHRM"
      },
      "execution_count": 20,
      "outputs": []
    },
    {
      "cell_type": "code",
      "source": [
        "# ▶ Box plot summary\n",
        "get_box_plot_data(labels, box)"
      ],
      "metadata": {
        "colab": {
          "base_uri": "https://localhost:8080/",
          "height": 143
        },
        "id": "V1r4eE4ZGHTP",
        "outputId": "7debbf03-3aa8-43e7-e91c-48dbf23ea4c8"
      },
      "execution_count": 21,
      "outputs": [
        {
          "output_type": "execute_result",
          "data": {
            "text/plain": [
              "    label  lower_whisker  lower_quartile    median  upper_quartile  \\\n",
              "0  data_a      -5.022137       -1.389243  0.015208        1.359398   \n",
              "1  data_b      -6.967830       -3.920965 -3.032291       -1.860128   \n",
              "2  data_c      -2.625450        0.208807  1.149919        2.124717   \n",
              "\n",
              "   upper_whisker                                            Outlier  \n",
              "0       5.276149  [-6.348084065451197, -6.16220267457209, -7.791...  \n",
              "1       0.867166  [-7.3915645416472, 1.7166538296979281, 2.89466...  \n",
              "2       4.998582  [-2.8487274034199936, -3.8000232034992587, -2....  "
            ],
            "text/html": [
              "\n",
              "  <div id=\"df-29e1e7fc-854b-43b9-9fd4-340ca1c1c32e\">\n",
              "    <div class=\"colab-df-container\">\n",
              "      <div>\n",
              "<style scoped>\n",
              "    .dataframe tbody tr th:only-of-type {\n",
              "        vertical-align: middle;\n",
              "    }\n",
              "\n",
              "    .dataframe tbody tr th {\n",
              "        vertical-align: top;\n",
              "    }\n",
              "\n",
              "    .dataframe thead th {\n",
              "        text-align: right;\n",
              "    }\n",
              "</style>\n",
              "<table border=\"1\" class=\"dataframe\">\n",
              "  <thead>\n",
              "    <tr style=\"text-align: right;\">\n",
              "      <th></th>\n",
              "      <th>label</th>\n",
              "      <th>lower_whisker</th>\n",
              "      <th>lower_quartile</th>\n",
              "      <th>median</th>\n",
              "      <th>upper_quartile</th>\n",
              "      <th>upper_whisker</th>\n",
              "      <th>Outlier</th>\n",
              "    </tr>\n",
              "  </thead>\n",
              "  <tbody>\n",
              "    <tr>\n",
              "      <th>0</th>\n",
              "      <td>data_a</td>\n",
              "      <td>-5.022137</td>\n",
              "      <td>-1.389243</td>\n",
              "      <td>0.015208</td>\n",
              "      <td>1.359398</td>\n",
              "      <td>5.276149</td>\n",
              "      <td>[-6.348084065451197, -6.16220267457209, -7.791...</td>\n",
              "    </tr>\n",
              "    <tr>\n",
              "      <th>1</th>\n",
              "      <td>data_b</td>\n",
              "      <td>-6.967830</td>\n",
              "      <td>-3.920965</td>\n",
              "      <td>-3.032291</td>\n",
              "      <td>-1.860128</td>\n",
              "      <td>0.867166</td>\n",
              "      <td>[-7.3915645416472, 1.7166538296979281, 2.89466...</td>\n",
              "    </tr>\n",
              "    <tr>\n",
              "      <th>2</th>\n",
              "      <td>data_c</td>\n",
              "      <td>-2.625450</td>\n",
              "      <td>0.208807</td>\n",
              "      <td>1.149919</td>\n",
              "      <td>2.124717</td>\n",
              "      <td>4.998582</td>\n",
              "      <td>[-2.8487274034199936, -3.8000232034992587, -2....</td>\n",
              "    </tr>\n",
              "  </tbody>\n",
              "</table>\n",
              "</div>\n",
              "      <button class=\"colab-df-convert\" onclick=\"convertToInteractive('df-29e1e7fc-854b-43b9-9fd4-340ca1c1c32e')\"\n",
              "              title=\"Convert this dataframe to an interactive table.\"\n",
              "              style=\"display:none;\">\n",
              "        \n",
              "  <svg xmlns=\"http://www.w3.org/2000/svg\" height=\"24px\"viewBox=\"0 0 24 24\"\n",
              "       width=\"24px\">\n",
              "    <path d=\"M0 0h24v24H0V0z\" fill=\"none\"/>\n",
              "    <path d=\"M18.56 5.44l.94 2.06.94-2.06 2.06-.94-2.06-.94-.94-2.06-.94 2.06-2.06.94zm-11 1L8.5 8.5l.94-2.06 2.06-.94-2.06-.94L8.5 2.5l-.94 2.06-2.06.94zm10 10l.94 2.06.94-2.06 2.06-.94-2.06-.94-.94-2.06-.94 2.06-2.06.94z\"/><path d=\"M17.41 7.96l-1.37-1.37c-.4-.4-.92-.59-1.43-.59-.52 0-1.04.2-1.43.59L10.3 9.45l-7.72 7.72c-.78.78-.78 2.05 0 2.83L4 21.41c.39.39.9.59 1.41.59.51 0 1.02-.2 1.41-.59l7.78-7.78 2.81-2.81c.8-.78.8-2.07 0-2.86zM5.41 20L4 18.59l7.72-7.72 1.47 1.35L5.41 20z\"/>\n",
              "  </svg>\n",
              "      </button>\n",
              "      \n",
              "  <style>\n",
              "    .colab-df-container {\n",
              "      display:flex;\n",
              "      flex-wrap:wrap;\n",
              "      gap: 12px;\n",
              "    }\n",
              "\n",
              "    .colab-df-convert {\n",
              "      background-color: #E8F0FE;\n",
              "      border: none;\n",
              "      border-radius: 50%;\n",
              "      cursor: pointer;\n",
              "      display: none;\n",
              "      fill: #1967D2;\n",
              "      height: 32px;\n",
              "      padding: 0 0 0 0;\n",
              "      width: 32px;\n",
              "    }\n",
              "\n",
              "    .colab-df-convert:hover {\n",
              "      background-color: #E2EBFA;\n",
              "      box-shadow: 0px 1px 2px rgba(60, 64, 67, 0.3), 0px 1px 3px 1px rgba(60, 64, 67, 0.15);\n",
              "      fill: #174EA6;\n",
              "    }\n",
              "\n",
              "    [theme=dark] .colab-df-convert {\n",
              "      background-color: #3B4455;\n",
              "      fill: #D2E3FC;\n",
              "    }\n",
              "\n",
              "    [theme=dark] .colab-df-convert:hover {\n",
              "      background-color: #434B5C;\n",
              "      box-shadow: 0px 1px 3px 1px rgba(0, 0, 0, 0.15);\n",
              "      filter: drop-shadow(0px 1px 2px rgba(0, 0, 0, 0.3));\n",
              "      fill: #FFFFFF;\n",
              "    }\n",
              "  </style>\n",
              "\n",
              "      <script>\n",
              "        const buttonEl =\n",
              "          document.querySelector('#df-29e1e7fc-854b-43b9-9fd4-340ca1c1c32e button.colab-df-convert');\n",
              "        buttonEl.style.display =\n",
              "          google.colab.kernel.accessAllowed ? 'block' : 'none';\n",
              "\n",
              "        async function convertToInteractive(key) {\n",
              "          const element = document.querySelector('#df-29e1e7fc-854b-43b9-9fd4-340ca1c1c32e');\n",
              "          const dataTable =\n",
              "            await google.colab.kernel.invokeFunction('convertToInteractive',\n",
              "                                                     [key], {});\n",
              "          if (!dataTable) return;\n",
              "\n",
              "          const docLinkHtml = 'Like what you see? Visit the ' +\n",
              "            '<a target=\"_blank\" href=https://colab.research.google.com/notebooks/data_table.ipynb>data table notebook</a>'\n",
              "            + ' to learn more about interactive tables.';\n",
              "          element.innerHTML = '';\n",
              "          dataTable['output_type'] = 'display_data';\n",
              "          await google.colab.output.renderOutput(dataTable, element);\n",
              "          const docLink = document.createElement('div');\n",
              "          docLink.innerHTML = docLinkHtml;\n",
              "          element.appendChild(docLink);\n",
              "        }\n",
              "      </script>\n",
              "    </div>\n",
              "  </div>\n",
              "  "
            ]
          },
          "metadata": {},
          "execution_count": 21
        }
      ]
    },
    {
      "cell_type": "code",
      "source": [
        "# ▶ Box plot Outlier 객체 출력\n",
        "fliers = [item.get_ydata() for item in box['fliers']]\n",
        "fliers"
      ],
      "metadata": {
        "colab": {
          "base_uri": "https://localhost:8080/"
        },
        "id": "6vnuQ7noGHVd",
        "outputId": "4c97bc1a-cc65-4f2e-b48b-c0b8932f3df8"
      },
      "execution_count": 22,
      "outputs": [
        {
          "output_type": "execute_result",
          "data": {
            "text/plain": [
              "[array([-6.34808407, -6.16220267, -7.7912739 , -5.81082599, -5.71278982,\n",
              "         5.7962262 ,  6.07916096]),\n",
              " array([-7.39156454,  1.71665383,  2.89466911,  1.40436495,  2.11851371]),\n",
              " array([-2.8487274 , -3.8000232 , -2.83251533, -2.9743109 , -3.04629726,\n",
              "        -2.85437761, -2.85789601,  5.8501608 ,  5.20412696,  6.45346828,\n",
              "         5.19952901,  5.32377221,  5.0691568 ])]"
            ]
          },
          "metadata": {},
          "execution_count": 22
        }
      ]
    },
    {
      "cell_type": "code",
      "source": [
        "fliers[1]"
      ],
      "metadata": {
        "colab": {
          "base_uri": "https://localhost:8080/"
        },
        "id": "yI0nKtpBGHXo",
        "outputId": "005377ad-a682-466e-efe9-5bfec03b5b3e"
      },
      "execution_count": 23,
      "outputs": [
        {
          "output_type": "execute_result",
          "data": {
            "text/plain": [
              "array([-7.39156454,  1.71665383,  2.89466911,  1.40436495,  2.11851371])"
            ]
          },
          "metadata": {},
          "execution_count": 23
        }
      ]
    }
  ]
}